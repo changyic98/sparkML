{
 "cells": [
  {
   "cell_type": "code",
   "execution_count": 25,
   "metadata": {},
   "outputs": [],
   "source": [
    "from pyspark import SparkConf, SparkContext\n",
    "from pyspark.mllib.recommendation import ALS, MatrixFactorizationModel, Rating\n",
    "import os \n",
    "\n",
    "\n",
    "sc.stop()\n",
    "conf=SparkConf().setMaster(\"local[*]\").setAppName(\"movierecommand\")\n",
    "sc=SparkContext(conf=conf)\n",
    "sc.setCheckpointDir(\"checkpoint\")\n",
    "dir_path = os.path.dirname(os.path.realpath('__file__'))\n",
    "data_path=dir_path+\"/ml-100k/\"\n",
    "\n",
    "data = sc.textFile(data_path+\"u.data\")\n",
    "#userID, novie id, rate \n",
    "ratings = data.map(lambda l: l.split('\\t'))\\\n",
    "    .map(lambda l: Rating(int(l[0]), int(l[1]), float(l[2]))).cache()\n",
    "                     "
   ]
  },
  {
   "cell_type": "markdown",
   "metadata": {},
   "source": [
    "# Training  and Fitting with ALS\n",
    "Collective filtering is commonly used in the recommendation system. It recommends items with high similarity which can be computed from user/item letant factor. Matrix factorization model is used to measure the similarity. Let us walk through the math. The following matrix is the user and item rating matrix( $r$ ) which is loaded in the previous block, it is full of unknown value since the user hasn't watched item.\n",
    "\n",
    "\\begin{bmatrix}5 & 5 & ? & 5 \\\\5 & ? & ? & 4\\\\3 & ? & 1 & ?\\\\? & 5 & ? & 4 \\end{bmatrix} \n",
    "\n",
    "We assume $r$ is the dot product result of a user vector($u$) and an item vector($p$).\n",
    "\n",
    "\\begin{bmatrix}p_0u_0 & p_1u_0 & p_2u_0 & p_3u_0 \\\\p_0u_1 & p_1u_1 & p_2u_1 & p_3u_1\\\\p_0u_2 & p_1u_2 & p_2u_2 & p_3u_2\\\\p_0u_3 & p_1u_3 & p_2u_3 & p_3u_3 \\end{bmatrix} \n",
    "\n",
    "Those unknown value can be filled by matrix decomposition, meaning finding $p$ and $u$. It can be done by minimizing the error $\\Sigma_{ij} (r_{ij} -p_iu_j)^2$ with some regulation. \n",
    "Alternating least squares(ALS) is a method to do the matrix decomposition by finding the minimal error through alternating fixed $p_i$ or $u_j$.\n"
   ]
  },
  {
   "cell_type": "code",
   "execution_count": 34,
   "metadata": {},
   "outputs": [
    {
     "name": "stdout",
     "output_type": "stream",
     "text": [
      "Mean Squared Error = 1.28703026974\n"
     ]
    }
   ],
   "source": [
    "train, test = ratings.randomSplit([0.7,0.3],7856)\n",
    "rank = 10\n",
    "numIterations = 20\n",
    "model = ALS.train(train, rank, numIterations)\n",
    "\n",
    "testdata = test.map(lambda p: (p[0], p[1]))\n",
    "predictions = model.predictAll(testdata).map(lambda r: ((r[0], r[1]), r[2]))\n",
    "ratesAndPreds = test.map(lambda r: ((r[0], r[1]), r[2])).join(predictions)\n",
    "MSE = ratesAndPreds.map(lambda r: (r[1][0] - r[1][1])**2).mean()\n",
    "print(\"Mean Squared Error = \" + str(MSE))"
   ]
  },
  {
   "cell_type": "markdown",
   "metadata": {},
   "source": [
    "# Recommand movie for user by the trained model  "
   ]
  },
  {
   "cell_type": "code",
   "execution_count": 29,
   "metadata": {},
   "outputs": [],
   "source": [
    "#load movie name\n",
    "\n",
    "moviedict={}\n",
    "f = open(data_path+\"u.item\", \"r\") \n",
    "for line in f:\n",
    "    col=line.split(\"|\")\n",
    "    i=int(col[0])\n",
    "    name=col[1]\n",
    "    moviedict[i]=name\n",
    "    "
   ]
  },
  {
   "cell_type": "code",
   "execution_count": 35,
   "metadata": {
    "scrolled": true
   },
   "outputs": [
    {
     "name": "stdout",
     "output_type": "stream",
     "text": [
      "War, The (1994)score=10.6412553652\n",
      "Balto (1995)score=9.86760668309\n",
      "Road to Wellville, The (1994)score=8.91258831862\n",
      "Foreign Correspondent (1940)score=8.12708785494\n",
      "Ponette (1996)score=7.5406304967\n",
      "In the Mouth of Madness (1995)score=7.53830845181\n",
      "Crash (1996)score=7.29768287693\n",
      "Ninotchka (1939)score=7.24622395506\n",
      "Orlando (1993)score=7.23525782614\n",
      "Once Were Warriors (1994)score=7.19225420347\n"
     ]
    }
   ],
   "source": [
    "userID=196\n",
    "res=model.recommendProducts(userID,10)\n",
    "for re in res:\n",
    "    print moviedict[int(re[1])]+\"score=\"+str(re[2])"
   ]
  },
  {
   "cell_type": "markdown",
   "metadata": {},
   "source": [
    "# Reference\n",
    "1. https://www.youtube.com/watch?v=MDo2WanJ2FM\n",
    "2. https://www.kdnuggets.com/2017/08/recommendation-system-algorithms-overview.html\n",
    "3. https://spark.apache.org/docs/2.2.0/mllib-collaborative-filtering.html"
   ]
  },
  {
   "cell_type": "markdown",
   "metadata": {},
   "source": []
  }
 ],
 "metadata": {
  "kernelspec": {
   "display_name": "Python 2",
   "language": "python",
   "name": "python2"
  },
  "language_info": {
   "codemirror_mode": {
    "name": "ipython",
    "version": 2
   },
   "file_extension": ".py",
   "mimetype": "text/x-python",
   "name": "python",
   "nbconvert_exporter": "python",
   "pygments_lexer": "ipython2",
   "version": "2.7.12"
  }
 },
 "nbformat": 4,
 "nbformat_minor": 2
}
