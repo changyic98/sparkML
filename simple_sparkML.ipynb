{
 "cells": [
  {
   "cell_type": "code",
   "execution_count": 10,
   "metadata": {},
   "outputs": [],
   "source": [
    "import pyspark\n",
    "import warnings\n",
    "warnings.filterwarnings(\"ignore\")\n",
    "import os \n",
    "dir_path = os.path.dirname(os.path.realpath('__file__'))\n",
    "data_path=dir_path+\"/bank/bank-full.csv\"\n",
    "\n",
    "sc = spark.sparkContext"
   ]
  },
  {
   "cell_type": "markdown",
   "metadata": {},
   "source": [
    "# Load csv file \n",
    "Bank dataset is from UCI (http://archive.ics.uci.edu/ml/index.php)"
   ]
  },
  {
   "cell_type": "code",
   "execution_count": 11,
   "metadata": {},
   "outputs": [
    {
     "data": {
      "text/plain": [
       "[Row(age=u'58', job=u'\"management\"', marital=u'\"married\"', education=u'\"tertiary\"', default=u'\"no\"', balance=u'2143', housing=u'\"yes\"', loan=u'\"no\"', contact=u'\"unknown\"', day=u'5', month=u'\"may\"', duration=u'261', campaign=u'1', pdays=u'-1', previous=u'0', poutcome=u'\"unknown\"', y=u'\"no\"'),\n",
       " Row(age=u'44', job=u'\"technician\"', marital=u'\"single\"', education=u'\"secondary\"', default=u'\"no\"', balance=u'29', housing=u'\"yes\"', loan=u'\"no\"', contact=u'\"unknown\"', day=u'5', month=u'\"may\"', duration=u'151', campaign=u'1', pdays=u'-1', previous=u'0', poutcome=u'\"unknown\"', y=u'\"no\"')]"
      ]
     },
     "execution_count": 11,
     "metadata": {},
     "output_type": "execute_result"
    }
   ],
   "source": [
    "df = sc.textFile(data_path)\n",
    "header = df.first()\n",
    "df =df.filter(lambda line: line != header)\n",
    "df_var = df.map(lambda k: k.split(\";\"))\n",
    "colname=header.split(\";\")\n",
    "colname = [w.replace('\"', '') for w in colname]\n",
    "df=df_var.toDF(colname)\n",
    "df.take(2)"
   ]
  },
  {
   "cell_type": "markdown",
   "metadata": {},
   "source": [
    "# Data cleaning. \n",
    "There is no missing data. "
   ]
  },
  {
   "cell_type": "code",
   "execution_count": 3,
   "metadata": {},
   "outputs": [
    {
     "name": "stdout",
     "output_type": "stream",
     "text": [
      "+---+---+-------+---------+-------+-------+-------+----+-------+---+-----+--------+--------+-----+--------+--------+---+\n",
      "|age|job|marital|education|default|balance|housing|loan|contact|day|month|duration|campaign|pdays|previous|poutcome|  y|\n",
      "+---+---+-------+---------+-------+-------+-------+----+-------+---+-----+--------+--------+-----+--------+--------+---+\n",
      "|  0|  0|      0|        0|      0|      0|      0|   0|      0|  0|    0|       0|       0|    0|       0|       0|  0|\n",
      "+---+---+-------+---------+-------+-------+-------+----+-------+---+-----+--------+--------+-----+--------+--------+---+\n",
      "\n"
     ]
    }
   ],
   "source": [
    "from pyspark.sql.functions import col,sum\n",
    "df.select(*(sum(col(c).isNull().cast(\"int\")).alias(c) for c in df.columns)).show()\n"
   ]
  },
  {
   "cell_type": "markdown",
   "metadata": {},
   "source": [
    "# EDA by pandas\n",
    "\n",
    "Now we check the y target distribution from the histogram. There are 88% instances of y='no'in this dataset. It indicated the problem of inbalance data. There are two main solutions to this, resample or change the performance metric. Here we choose f1 score to evalute the model performance instead of accuracy. "
   ]
  },
  {
   "cell_type": "code",
   "execution_count": 4,
   "metadata": {},
   "outputs": [
    {
     "data": {
      "image/png": "[encoded data removed]",
      "text/plain": [
       "<matplotlib.figure.Figure at 0x106211850>"
      ]
     },
     "metadata": {},
     "output_type": "display_data"
    }
   ],
   "source": [
    "import matplotlib\n",
    "import matplotlib.pyplot as plt\n",
    "import pandas as pd\n",
    "import numpy as np\n",
    "pdf=df.toPandas()\n",
    "pdf['y'].groupby(pdf['y']).count().plot(kind='bar');\n"
   ]
  },
  {
   "cell_type": "markdown",
   "metadata": {},
   "source": [
    "By checking the subscribtion rate for each job, it indicated the student and retired tend to have relatively higher chance to subscribe a term deposit. "
   ]
  },
  {
   "cell_type": "code",
   "execution_count": 6,
   "metadata": {
    "scrolled": true
   },
   "outputs": [
    {
     "data": {
      "image/png": "[encoded data removed]",
      "text/plain": [
       "<matplotlib.figure.Figure at 0x112a5e8d0>"
      ]
     },
     "metadata": {},
     "output_type": "display_data"
    }
   ],
   "source": [
    "var=pdf.y.unique()\n",
    "no=pdf[pdf.y==var[0]]['job'].groupby(pdf['job']).count()\n",
    "yes=pdf[pdf.y==var[1]]['job'].groupby(pdf['job']).count()\n",
    "sum=no+yes\n",
    "pd.concat([no/sum, yes/sum], axis=1,keys=['no','yes']).plot(kind='bar');"
   ]
  },
  {
   "cell_type": "markdown",
   "metadata": {},
   "source": [
    "By checking the subscribtion rate for customer housing loan, it indicated customers without housing loan tend to have relatively higher chance to subscribe a term deposit."
   ]
  },
  {
   "cell_type": "code",
   "execution_count": 8,
   "metadata": {},
   "outputs": [
    {
     "data": {
      "image/png": "[encoded data removed]",
      "text/plain": [
       "<matplotlib.figure.Figure at 0x10fafe8d0>"
      ]
     },
     "metadata": {},
     "output_type": "display_data"
    }
   ],
   "source": [
    "var=pdf.y.unique()\n",
    "no=pdf[pdf.y==var[0]]['housing'].groupby(pdf['housing']).count()\n",
    "yes=pdf[pdf.y==var[1]]['housing'].groupby(pdf['housing']).count()\n",
    "sum=no+yes\n",
    "pd.concat([no/sum, yes/sum], axis=1,keys=['no','yes']).plot(kind='bar');"
   ]
  },
  {
   "cell_type": "markdown",
   "metadata": {},
   "source": [
    "# Feature transformation\n"
   ]
  },
  {
   "cell_type": "code",
   "execution_count": 12,
   "metadata": {},
   "outputs": [
    {
     "name": "stdout",
     "output_type": "stream",
     "text": [
      "root\n",
      " |-- age: integer (nullable = true)\n",
      " |-- job: string (nullable = true)\n",
      " |-- marital: string (nullable = true)\n",
      " |-- education: string (nullable = true)\n",
      " |-- default: string (nullable = true)\n",
      " |-- balance: integer (nullable = true)\n",
      " |-- housing: string (nullable = true)\n",
      " |-- loan: string (nullable = true)\n",
      " |-- contact: string (nullable = true)\n",
      " |-- day: integer (nullable = true)\n",
      " |-- month: string (nullable = true)\n",
      " |-- duration: integer (nullable = true)\n",
      " |-- campaign: integer (nullable = true)\n",
      " |-- pdays: integer (nullable = true)\n",
      " |-- previous: integer (nullable = true)\n",
      " |-- poutcome: string (nullable = true)\n",
      " |-- y: string (nullable = true)\n",
      "\n"
     ]
    }
   ],
   "source": [
    "from pyspark.sql.types import IntegerType\n",
    "\n",
    "intcol=['age','balance','day','duration','campaign','pdays','previous']\n",
    "for col in intcol:\n",
    "    df = df.withColumn(col, df[col].cast(IntegerType()))\n",
    "\n",
    "df.printSchema()\n",
    " "
   ]
  },
  {
   "cell_type": "markdown",
   "metadata": {},
   "source": [
    "Next we convert catergorical variable to int by using StringIndexer. \n"
   ]
  },
  {
   "cell_type": "code",
   "execution_count": 13,
   "metadata": {},
   "outputs": [
    {
     "name": "stdout",
     "output_type": "stream",
     "text": [
      "root\n",
      " |-- age: integer (nullable = true)\n",
      " |-- balance: integer (nullable = true)\n",
      " |-- day: integer (nullable = true)\n",
      " |-- duration: integer (nullable = true)\n",
      " |-- campaign: integer (nullable = true)\n",
      " |-- pdays: integer (nullable = true)\n",
      " |-- previous: integer (nullable = true)\n",
      " |-- jobindex: double (nullable = true)\n",
      " |-- maritalindex: double (nullable = true)\n",
      " |-- educationindex: double (nullable = true)\n",
      " |-- defaultindex: double (nullable = true)\n",
      " |-- housingindex: double (nullable = true)\n",
      " |-- loanindex: double (nullable = true)\n",
      " |-- contactindex: double (nullable = true)\n",
      " |-- monthindex: double (nullable = true)\n",
      " |-- poutcomeindex: double (nullable = true)\n",
      " |-- yindex: double (nullable = true)\n",
      "\n"
     ]
    }
   ],
   "source": [
    "from pyspark.ml.feature import StringIndexer\n",
    "catacol=['job','marital','education','default','housing','loan','contact','month','poutcome','y']\n",
    "for col in catacol:\n",
    "    indexer = StringIndexer(inputCol=col, outputCol=col+'index')\n",
    "    df = indexer.fit(df).transform(df)\n",
    "    df=df.drop(col)\n",
    "df.printSchema()"
   ]
  },
  {
   "cell_type": "markdown",
   "metadata": {},
   "source": [
    "By checking correlation between each features and y, it indicated that the last contact duration is highly correlated."
   ]
  },
  {
   "cell_type": "code",
   "execution_count": 7,
   "metadata": {},
   "outputs": [
    {
     "data": {
      "image/png": "[encoded data removed]",
      "text/plain": [
       "<matplotlib.figure.Figure at 0x10ed2cd50>"
      ]
     },
     "metadata": {},
     "output_type": "display_data"
    }
   ],
   "source": [
    "from pyspark.mllib.stat import Statistics\n",
    "import numpy as np\n",
    "#corr_mat=Statistics.corr(features, method=\"pearson\")\n",
    "\n",
    "colname=list(df.columns)\n",
    "colname.pop()# remove 'yindex'\n",
    "corr=[]\n",
    "for col in colname:\n",
    "    corr.append([col,df.stat.corr(col, \"yindex\")])\n",
    "df_corr = sc.parallelize(corr).toDF(['name','corr'])\n",
    "df_corr=df_corr.sort('corr')\n",
    "pdf_corr=df_corr.toPandas()\n",
    "ax=pdf_corr.plot.barh()\n",
    "ax.set_yticklabels(pdf_corr['name'], rotation=0);# ; can hide the <matplotlib.text.Text at 0x11453a310> massage"
   ]
  },
  {
   "cell_type": "markdown",
   "metadata": {},
   "source": [
    "# Prepare training data"
   ]
  },
  {
   "cell_type": "code",
   "execution_count": 14,
   "metadata": {},
   "outputs": [
    {
     "data": {
      "text/plain": [
       "[Row(label=0.0, features=DenseVector([58.0, 2143.0, 5.0, 261.0, 1.0, -1.0, 0.0, 1.0, 0.0, 1.0, 0.0, 0.0, 0.0, 1.0, 0.0])),\n",
       " Row(label=0.0, features=DenseVector([44.0, 29.0, 5.0, 151.0, 1.0, -1.0, 0.0, 2.0, 1.0, 0.0, 0.0, 0.0, 0.0, 1.0, 0.0]))]"
      ]
     },
     "execution_count": 14,
     "metadata": {},
     "output_type": "execute_result"
    }
   ],
   "source": [
    "from pyspark.ml.linalg import DenseVector\n",
    "input_data=df.rdd.map(lambda x:(x[-1],DenseVector(x[:-2])))\n",
    "df_d=spark.createDataFrame(input_data,[\"label\",\"features\"])\n",
    "df_d.take(2)"
   ]
  },
  {
   "cell_type": "code",
   "execution_count": 33,
   "metadata": {},
   "outputs": [
    {
     "data": {
      "text/plain": [
       "[Row(label=0.0, features=DenseVector([58.0, 2143.0, 5.0, 261.0, 1.0, -1.0, 0.0, 1.0, 0.0, 1.0, 0.0, 0.0, 0.0, 1.0, 0.0]), features_scaled=DenseVector([5.462, 0.7038, 0.6008, 1.0135, 0.3228, -0.01, 0.0, 0.3748, 0.0, 1.154, 0.0, 0.0, 0.0, 1.6405, 0.0])),\n",
       " Row(label=0.0, features=DenseVector([44.0, 29.0, 5.0, 151.0, 1.0, -1.0, 0.0, 2.0, 1.0, 0.0, 0.0, 0.0, 0.0, 1.0, 0.0]), features_scaled=DenseVector([4.1436, 0.0095, 0.6008, 0.5863, 0.3228, -0.01, 0.0, 0.7496, 1.4431, 0.0, 0.0, 0.0, 0.0, 1.6405, 0.0]))]"
      ]
     },
     "execution_count": 33,
     "metadata": {},
     "output_type": "execute_result"
    }
   ],
   "source": [
    "\n",
    "from pyspark.ml.feature import StandardScaler\n",
    "sclr=StandardScaler(inputCol='features',outputCol='features_scaled')\n",
    "scaler=sclr.fit(df_d)\n",
    "scaled_df=scaler.transform(df_d)\n",
    "scaled_df.take(2)\n"
   ]
  },
  {
   "cell_type": "code",
   "execution_count": 15,
   "metadata": {},
   "outputs": [
    {
     "data": {
      "text/plain": [
       "[Row(label=0.0, features=DenseVector([20.0, -172.0, 19.0, 238.0, 3.0, -1.0, 0.0, 0.0, 0.0, 2.0, 0.0, 0.0, 1.0, 1.0, 0.0])),\n",
       " Row(label=0.0, features=DenseVector([20.0, -103.0, 13.0, 180.0, 1.0, -1.0, 0.0, 4.0, 1.0, 0.0, 0.0, 0.0, 0.0, 1.0, 0.0]))]"
      ]
     },
     "execution_count": 15,
     "metadata": {},
     "output_type": "execute_result"
    }
   ],
   "source": [
    "train_df,test_df=df_d.randomSplit([0.8,0.2],seed=42)\n",
    "test_df.take(2)"
   ]
  },
  {
   "cell_type": "markdown",
   "metadata": {},
   "source": [
    "# (a) Logistic regression model."
   ]
  },
  {
   "cell_type": "code",
   "execution_count": 16,
   "metadata": {},
   "outputs": [
    {
     "name": "stdout",
     "output_type": "stream",
     "text": [
      "training done\n"
     ]
    }
   ],
   "source": [
    "from pyspark.ml.classification import LogisticRegression,RandomForestClassifier\n",
    "\n",
    "lr = LogisticRegression(maxIter=10, regParam=0.3, elasticNetParam=0.8)\n",
    "\n",
    "# Fit the model\n",
    "lrModel = lr.fit(train_df)\n",
    "\n",
    "# Compute raw scores on the test set\n",
    "y_p=lrModel.transform(test_df)\n",
    "y_pred=y_p.select('prediction').rdd.map(lambda x:x[0])#predicted\n",
    "y_t=y_p.select('label').rdd.map(lambda x:x[0])#target\n",
    "predictionAndLabels=y_pred.zip(y_t)\n",
    "predictionAndLabels.collect()\n",
    "print 'training done'    "
   ]
  },
  {
   "cell_type": "markdown",
   "metadata": {},
   "source": [
    "## Model evaluation \n",
    "The test f1 score for LR is 0.88. "
   ]
  },
  {
   "cell_type": "code",
   "execution_count": 17,
   "metadata": {},
   "outputs": [
    {
     "name": "stdout",
     "output_type": "stream",
     "text": [
      "Logistic f1score 0.883186433114\n"
     ]
    }
   ],
   "source": [
    "from pyspark.mllib.evaluation import MulticlassMetrics\n",
    "metrics=MulticlassMetrics(predictionAndLabels)\n",
    "precision = metrics.precision()\n",
    "recall = metrics.recall()\n",
    "f1Score = metrics.fMeasure()\n",
    "\n",
    "print('Logistic f1score %s'%f1Score)"
   ]
  },
  {
   "cell_type": "markdown",
   "metadata": {},
   "source": [
    "# (b) Random forest tree classifier model."
   ]
  },
  {
   "cell_type": "code",
   "execution_count": 18,
   "metadata": {},
   "outputs": [
    {
     "name": "stdout",
     "output_type": "stream",
     "text": [
      "training done\n"
     ]
    }
   ],
   "source": [
    "from pyspark.ml.classification import RandomForestClassifier\n",
    "rf = RandomForestClassifier(labelCol=\"label\", featuresCol=\"features\", numTrees=10)\n",
    "\n",
    "# Train model.  This also runs the indexers.\n",
    "rfmodel = rf.fit(train_df)\n",
    "\n",
    "# Make predictions.\n",
    "y_p = rfmodel.transform(test_df)\n",
    "y_pred=y_p.select('prediction').rdd.map(lambda x:x[0])#predicted\n",
    "y_t=y_p.select('label').rdd.map(lambda x:x[0])#target\n",
    "predictionAndLabels=y_pred.zip(y_t)\n",
    "print 'training done'  "
   ]
  },
  {
   "cell_type": "markdown",
   "metadata": {},
   "source": [
    "## Model evaluation \n",
    "The test f1 score for RT is 0.89.  "
   ]
  },
  {
   "cell_type": "code",
   "execution_count": 19,
   "metadata": {},
   "outputs": [
    {
     "name": "stdout",
     "output_type": "stream",
     "text": [
      "f1score 0.890215329689\n"
     ]
    }
   ],
   "source": [
    "from pyspark.mllib.evaluation import MulticlassMetrics\n",
    "metrics=MulticlassMetrics(predictionAndLabels)\n",
    "precision = metrics.precision()\n",
    "recall = metrics.recall()\n",
    "f1Score = metrics.fMeasure()\n",
    "\n",
    "print('f1score %s'%f1Score)\n"
   ]
  },
  {
   "cell_type": "code",
   "execution_count": 21,
   "metadata": {},
   "outputs": [],
   "source": [
    "sc.stop()"
   ]
  },
  {
   "cell_type": "markdown",
   "metadata": {},
   "source": [
    "# Future work \n",
    "1. Feature engineering: one hot encoding catagorical variable, more EDA.\n",
    "2. n-way interaction \n",
    "3. Try xgboost and other ensemble model\n",
    "4. Stacking ensemble. \n",
    "5. Learning curve. \n"
   ]
  },
  {
   "cell_type": "code",
   "execution_count": null,
   "metadata": {},
   "outputs": [],
   "source": []
  }
 ],
 "metadata": {
  "kernelspec": {
   "display_name": "Python 2",
   "language": "python",
   "name": "python2"
  },
  "language_info": {
   "codemirror_mode": {
    "name": "ipython",
    "version": 2
   },
   "file_extension": ".py",
   "mimetype": "text/x-python",
   "name": "python",
   "nbconvert_exporter": "python",
   "pygments_lexer": "ipython2",
   "version": "2.7.12"
  }
 },
 "nbformat": 4,
 "nbformat_minor": 2
}
